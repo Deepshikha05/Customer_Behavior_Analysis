{
 "cells": [
  {
   "cell_type": "code",
   "execution_count": 1,
   "metadata": {},
   "outputs": [],
   "source": [
    "import csv\n",
    "import os\n",
    "import matplotlib.pyplot as plt \n",
    "import numpy as np\n",
    "from sklearn.model_selection import train_test_split\n",
    "from sklearn.ensemble import RandomForestClassifier\n",
    "from sklearn.preprocessing import OneHotEncoder, LabelEncoder\n",
    "from sklearn.metrics import mean_squared_error\n",
    "from sklearn.model_selection import cross_val_score\n",
    "from sklearn.metrics import classification_report, confusion_matrix \n",
    "from sklearn import preprocessing\n",
    "from math import sqrt\n",
    "import pandas as pd"
   ]
  },
  {
   "cell_type": "code",
   "execution_count": 2,
   "metadata": {},
   "outputs": [
    {
     "data": {
      "text/plain": [
       "customerID           object\n",
       "gender               object\n",
       "SeniorCitizen         int64\n",
       "Partner              object\n",
       "Dependents           object\n",
       "tenure                int64\n",
       "PhoneService         object\n",
       "MultipleLines        object\n",
       "InternetService      object\n",
       "OnlineSecurity       object\n",
       "OnlineBackup         object\n",
       "DeviceProtection     object\n",
       "TechSupport          object\n",
       "StreamingTV          object\n",
       "StreamingMovies      object\n",
       "Contract             object\n",
       "PaperlessBilling     object\n",
       "PaymentMethod        object\n",
       "MonthlyCharges      float64\n",
       "TotalCharges        float64\n",
       "Churn                object\n",
       "dtype: object"
      ]
     },
     "execution_count": 2,
     "metadata": {},
     "output_type": "execute_result"
    }
   ],
   "source": [
    "path = '/home/deep/Workspace/Customer_Behavior/Dataset.csv'\n",
    "data = pd.read_csv(path)\n",
    "data.dtypes"
   ]
  },
  {
   "cell_type": "code",
   "execution_count": 3,
   "metadata": {},
   "outputs": [],
   "source": [
    "lb_make = LabelEncoder()\n",
    "label_df = pd.DataFrame()\n",
    "label_df['Gender_Code'] = lb_make.fit_transform(data['gender'])\n",
    "label_df['Partner_Code'] = lb_make.fit_transform(data['Partner'])\n",
    "label_df['Dependents_Code'] = lb_make.fit_transform(data['Dependents'])\n",
    "label_df['PhoneService_Code'] = lb_make.fit_transform(data['PhoneService'])\n",
    "label_df['MultipleLines_Code'] = lb_make.fit_transform(data['MultipleLines'])\n",
    "label_df['InternetService_Code'] = lb_make.fit_transform(data['InternetService'])\n",
    "label_df['OnlineSecurity_Code'] = lb_make.fit_transform(data['OnlineSecurity'])\n",
    "label_df['OnlineBackup_Code'] = lb_make.fit_transform(data['OnlineBackup'])\n",
    "label_df['DeviceProtection_Code'] = lb_make.fit_transform(data['DeviceProtection'])\n",
    "label_df['TechSupport_Code'] = lb_make.fit_transform(data['TechSupport'])\n",
    "label_df['StreamingTV_Code'] = lb_make.fit_transform(data['StreamingTV'])\n",
    "label_df['StreamingMovies_Code'] = lb_make.fit_transform(data['StreamingMovies'])\n",
    "label_df['Contract_Code'] = lb_make.fit_transform(data['Contract'])\n",
    "label_df['PaperlessBilling_Code'] = lb_make.fit_transform(data['PaperlessBilling'])\n",
    "label_df['PaymentMethod_Code'] = lb_make.fit_transform(data['PaymentMethod'])\n",
    "label_df['Churn_Code'] = lb_make.fit_transform(data['Churn'])"
   ]
  },
  {
   "cell_type": "code",
   "execution_count": 4,
   "metadata": {},
   "outputs": [],
   "source": [
    "data_df = pd.DataFrame()\n",
    "y = pd.get_dummies(label_df['Gender_Code'])\n",
    "x = pd.get_dummies(label_df['Partner_Code'])\n",
    "z = pd.get_dummies(label_df['Dependents_Code'])\n",
    "a = pd.get_dummies(label_df['PhoneService_Code'])\n",
    "b = pd.get_dummies(label_df['MultipleLines_Code'])\n",
    "c = pd.get_dummies(label_df['InternetService_Code'])\n",
    "d = pd.get_dummies(label_df['OnlineSecurity_Code'])\n",
    "e = pd.get_dummies(label_df['OnlineBackup_Code'])\n",
    "f = pd.get_dummies(label_df['DeviceProtection_Code'])\n",
    "g = pd.get_dummies(label_df['TechSupport_Code'])\n",
    "h = pd.get_dummies(label_df['StreamingTV_Code'])\n",
    "i = pd.get_dummies(label_df['StreamingMovies_Code'])\n",
    "j = pd.get_dummies(label_df['Contract_Code'])\n",
    "k = pd.get_dummies(label_df['PaperlessBilling_Code'])\n",
    "l = pd.get_dummies(label_df['PaymentMethod_Code'])"
   ]
  },
  {
   "cell_type": "code",
   "execution_count": 5,
   "metadata": {},
   "outputs": [],
   "source": [
    "data_df['Gender_Female'] = y[0]\n",
    "data_df['Gender_Male'] = y[1]\n",
    "data_df['Senior_Citizen'] = data['SeniorCitizen']\n",
    "data_df['Partner_Yes'] = x[0]\n",
    "data_df['Partner_No'] = x[1]\n",
    "data_df['Dependents_Yes'] = z[1]\n",
    "data_df['Dependents_No'] = z[0]\n",
    "data_df['Tenure'] = data['tenure']\n",
    "data_df['PhoneService_Yes'] = a[1]\n",
    "data_df['PhoneService_No'] = a[0]\n",
    "data_df['MultipleLines_NoPhnServ'] = b[1]\n",
    "data_df['MultipleLines_Yes'] = b[2]\n",
    "data_df['MultipleLines_No'] = b[0]\n",
    "data_df['InternetService_DSL'] = c[0]\n",
    "data_df['InternetService_FiberOptic'] = c[1]\n",
    "data_df['InternetService_No']= c[2]\n",
    "data_df['OnlineSecurity_Yes'] = d[2]\n",
    "data_df['OnlineSecurity_No'] = d[0]\n",
    "data_df['OnlineSecurity_NoInternetService'] = d[1]\n",
    "data_df['OnlineBackup_Yes'] = e[2]\n",
    "data_df['OnlineBackup_No'] = e[0]\n",
    "data_df['OnlineBackup_NoInternetService'] = e[1]\n",
    "data_df['DeviceProtection_Yes'] = f[2]\n",
    "data_df['DeviceProtection_No'] = f[0]\n",
    "data_df['DeviceProtection_NoInternetService'] = f[1]\n",
    "data_df['TechSupport_Yes'] = g[2]\n",
    "data_df['TechSupport_No']= g[0]\n",
    "data_df['TechSupport_NoInternetService'] = g[1]\n",
    "data_df['StreamingTV_Yes'] = h[2]\n",
    "data_df['StreamingTV_No'] = h[0]\n",
    "data_df['StreamingTV_NoInternetService'] = h[1]\n",
    "data_df['StreamingMovies_Yes'] = i[2]\n",
    "data_df['StreamingMovies_No'] = i[0]\n",
    "data_df['StreamingMovies_NoInternetService']= i[1]\n",
    "data_df['Contract_Monthly'] = j[0]\n",
    "data_df['Contract_Yearly'] = j[1]\n",
    "data_df['Contract_TwoYearly'] = j[2]\n",
    "data_df['PaperlessBilling_Yes'] = k[1]\n",
    "data_df['PaperlessBilling_No'] = k[0]\n",
    "data_df['PaymentMethod_Electronic'] = l[2]\n",
    "data_df['PaymentMethod_Mail'] = l[3]\n",
    "data_df['PaymentMethod_Bank'] = l[0]\n",
    "data_df['PaymentMethod_Credit'] = l[1]\n",
    "data_df['MonthlyCharges'] = data['MonthlyCharges']\n",
    "data_df['TotalCharges'] = data['TotalCharges']"
   ]
  },
  {
   "cell_type": "code",
   "execution_count": 6,
   "metadata": {},
   "outputs": [],
   "source": [
    "X_train, X_test, y_train, y_test = train_test_split(data_df, label_df['Churn_Code'], test_size=0.25)"
   ]
  },
  {
   "cell_type": "code",
   "execution_count": 7,
   "metadata": {},
   "outputs": [],
   "source": [
    "X_Train = preprocessing.scale(X_train)\n",
    "X_Test = preprocessing.scale(X_test)"
   ]
  },
  {
   "cell_type": "code",
   "execution_count": 8,
   "metadata": {},
   "outputs": [
    {
     "data": {
      "text/plain": [
       "RandomForestClassifier(bootstrap=True, class_weight=None, criterion='gini',\n",
       "            max_depth=None, max_features='auto', max_leaf_nodes=None,\n",
       "            min_impurity_decrease=0.0, min_impurity_split=None,\n",
       "            min_samples_leaf=1, min_samples_split=2,\n",
       "            min_weight_fraction_leaf=0.0, n_estimators=10, n_jobs=1,\n",
       "            oob_score=False, random_state=0, verbose=0, warm_start=False)"
      ]
     },
     "execution_count": 8,
     "metadata": {},
     "output_type": "execute_result"
    }
   ],
   "source": [
    "clf = RandomForestClassifier(random_state=0)\n",
    "clf.fit(X_Train, y_train)"
   ]
  },
  {
   "cell_type": "code",
   "execution_count": 9,
   "metadata": {},
   "outputs": [
    {
     "name": "stdout",
     "output_type": "stream",
     "text": [
      "[1.67464763e-02 1.65675257e-02 2.10393820e-02 1.66284303e-02\n",
      " 1.63184686e-02 1.26101760e-02 1.20535422e-02 1.45103874e-01\n",
      " 3.21756932e-03 3.66398385e-03 2.70856849e-03 1.06470618e-02\n",
      " 1.33984654e-02 1.18725988e-02 1.71929860e-02 1.02877053e-02\n",
      " 8.08377133e-03 4.92701386e-02 9.53458998e-05 1.18002715e-02\n",
      " 1.61357953e-02 9.54143472e-06 1.21570606e-02 1.29384894e-02\n",
      " 1.61274087e-03 1.10445503e-02 1.38660187e-02 5.64464188e-03\n",
      " 1.13724722e-02 1.08807362e-02 5.74487095e-03 1.13409809e-02\n",
      " 1.20189266e-02 4.74792694e-04 5.32545573e-02 1.64476360e-02\n",
      " 3.27743582e-02 1.49181640e-02 1.51632517e-02 2.18072590e-02\n",
      " 1.05915732e-02 1.22630415e-02 1.10757212e-02 1.37628796e-01\n",
      " 1.49527682e-01]\n"
     ]
    }
   ],
   "source": [
    "print(clf.feature_importances_)"
   ]
  },
  {
   "cell_type": "code",
   "execution_count": 10,
   "metadata": {},
   "outputs": [],
   "source": [
    "y_pred = clf.predict(X_Test)"
   ]
  },
  {
   "cell_type": "code",
   "execution_count": 11,
   "metadata": {},
   "outputs": [
    {
     "name": "stdout",
     "output_type": "stream",
     "text": [
      "[[1175  126]\n",
      " [ 259  201]]\n",
      "             precision    recall  f1-score   support\n",
      "\n",
      "          0       0.82      0.90      0.86      1301\n",
      "          1       0.61      0.44      0.51       460\n",
      "\n",
      "avg / total       0.77      0.78      0.77      1761\n",
      "\n"
     ]
    }
   ],
   "source": [
    "print(confusion_matrix(y_test,y_pred))  \n",
    "print(classification_report(y_test,y_pred))"
   ]
  },
  {
   "cell_type": "code",
   "execution_count": 12,
   "metadata": {},
   "outputs": [
    {
     "data": {
      "text/plain": [
       "array([1.67464763e-02, 1.65675257e-02, 2.10393820e-02, 1.66284303e-02,\n",
       "       1.63184686e-02, 1.26101760e-02, 1.20535422e-02, 1.45103874e-01,\n",
       "       3.21756932e-03, 3.66398385e-03, 2.70856849e-03, 1.06470618e-02,\n",
       "       1.33984654e-02, 1.18725988e-02, 1.71929860e-02, 1.02877053e-02,\n",
       "       8.08377133e-03, 4.92701386e-02, 9.53458998e-05, 1.18002715e-02,\n",
       "       1.61357953e-02, 9.54143472e-06, 1.21570606e-02, 1.29384894e-02,\n",
       "       1.61274087e-03, 1.10445503e-02, 1.38660187e-02, 5.64464188e-03,\n",
       "       1.13724722e-02, 1.08807362e-02, 5.74487095e-03, 1.13409809e-02,\n",
       "       1.20189266e-02, 4.74792694e-04, 5.32545573e-02, 1.64476360e-02,\n",
       "       3.27743582e-02, 1.49181640e-02, 1.51632517e-02, 2.18072590e-02,\n",
       "       1.05915732e-02, 1.22630415e-02, 1.10757212e-02, 1.37628796e-01,\n",
       "       1.49527682e-01])"
      ]
     },
     "execution_count": 12,
     "metadata": {},
     "output_type": "execute_result"
    }
   ],
   "source": [
    "clf.feature_importances_"
   ]
  },
  {
   "cell_type": "code",
   "execution_count": null,
   "metadata": {},
   "outputs": [],
   "source": []
  }
 ],
 "metadata": {
  "kernelspec": {
   "display_name": "Python 3",
   "language": "python",
   "name": "python3"
  },
  "language_info": {
   "codemirror_mode": {
    "name": "ipython",
    "version": 3
   },
   "file_extension": ".py",
   "mimetype": "text/x-python",
   "name": "python",
   "nbconvert_exporter": "python",
   "pygments_lexer": "ipython3",
   "version": "3.5.2"
  }
 },
 "nbformat": 4,
 "nbformat_minor": 2
}
